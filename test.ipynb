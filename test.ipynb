{
 "cells": [
  {
   "cell_type": "code",
   "execution_count": 1,
   "id": "8efbc809",
   "metadata": {},
   "outputs": [],
   "source": [
    "import cv2\n",
    "import numpy as np\n",
    "from depth_estimation import load_depth_model, estimate_depth\n",
    "from ultralytics import YOLO\n",
    "from PIL import Image"
   ]
  },
  {
   "cell_type": "code",
   "execution_count": 19,
   "id": "978978b9",
   "metadata": {},
   "outputs": [],
   "source": [
    "def load_model():\n",
    "    # Load a pre-trained YOLOv8 model\n",
    "    model = YOLO('yolov8n.pt')\n",
    "    return model"
   ]
  },
  {
   "cell_type": "code",
   "execution_count": 20,
   "id": "03739b0b",
   "metadata": {},
   "outputs": [],
   "source": [
    "def detect_objects(image, model, conf_threshold=0.5):\n",
    "    \"\"\"\n",
    "    Detect objects in an image using YOLOv8\n",
    "    \n",
    "    Args:\n",
    "        image: Can be a file path, PIL Image, or numpy array\n",
    "        model: YOLO model from load_model()\n",
    "        conf_threshold: Confidence threshold for detections\n",
    "        \n",
    "    Returns:\n",
    "        Dictionary with boxes, labels, scores\n",
    "    \"\"\"\n",
    "    # Process the image depending on its type\n",
    "    if isinstance(image, str):\n",
    "        # No need to preprocess if it's a path - YOLO handles this\n",
    "        pass\n",
    "    elif not isinstance(image, (Image.Image, np.ndarray)):\n",
    "        raise ValueError(\"Invalid image input. Provide a PIL Image, file path, or numpy array\")\n",
    "    \n",
    "    # Run inference with YOLO\n",
    "    results = model(image, conf=conf_threshold)\n",
    "    \n",
    "    # Process results into a similar format as you were using before\n",
    "    boxes = []\n",
    "    labels = []\n",
    "    scores = []\n",
    "    \n",
    "    # Extract detection information\n",
    "    for r in results:\n",
    "        for box in r.boxes:\n",
    "            # Get coordinates\n",
    "            x1, y1, x2, y2 = box.xyxy[0].tolist()  # Convert to list\n",
    "            boxes.append([x1, y1, x2, y2])\n",
    "            \n",
    "            # Get class and confidence\n",
    "            cls = int(box.cls[0])\n",
    "            labels.append(r.names[cls])\n",
    "            scores.append(float(box.conf[0]))\n",
    "    \n",
    "    return {\n",
    "        \"boxes\": boxes,\n",
    "        \"labels\": labels,\n",
    "        \"scores\": scores\n",
    "    }"
   ]
  },
  {
   "cell_type": "code",
   "execution_count": 21,
   "id": "6c38356b",
   "metadata": {},
   "outputs": [],
   "source": [
    "def test_depth_estimation(image_path):\n",
    "    # Load the depth model\n",
    "    midas_model = load_depth_model()\n",
    "\n",
    "    # Read the image\n",
    "    image = cv2.imread(image_path)\n",
    "\n",
    "    if image is None:\n",
    "        print(\"Error: Unable to load image\")\n",
    "        return\n",
    "\n",
    "    # Perform depth estimation\n",
    "    depth_map = estimate_depth(image, midas_model)\n",
    "\n",
    "    # Resize depth map to match the original image size\n",
    "    depth_map_resized = cv2.resize(depth_map, (image.shape[1], image.shape[0]))\n",
    "\n",
    "    # color map\n",
    "    # depth_map_color = cv2.applyColorMap(depth_map, cv2.COLORMAP_JET)\n",
    "\n",
    "    # Display the original image and the depth map\n",
    "    cv2.imshow(\"Original Image\", image)\n",
    "    cv2.imshow(\"Depth Map\", depth_map_resized)\n",
    "\n",
    "    cv2.waitKey(0)  # Wait until any key is pressed\n",
    "    cv2.destroyAllWindows()"
   ]
  },
  {
   "cell_type": "code",
   "execution_count": 28,
   "id": "2a423ec3",
   "metadata": {},
   "outputs": [],
   "source": [
    "image_path = \"C:/Users/tonyl/Downloads/Screenshot 2025-04-18 135242.png\"\n",
    "# test_depth_estimation(image_path)\n",
    "depth_model = load_depth_model()\n",
    "frame = cv2.imread(image_path)\n",
    "depth_map = estimate_depth(frame, depth_model)"
   ]
  },
  {
   "cell_type": "code",
   "execution_count": 29,
   "id": "d8fbf24e",
   "metadata": {},
   "outputs": [
    {
     "name": "stdout",
     "output_type": "stream",
     "text": [
      "\n",
      "image 1/1 C:\\Users\\tonyl\\Downloads\\Screenshot 2025-04-18 135242.png: 384x640 1 person, 1 bed, 35.9ms\n",
      "Speed: 1.1ms preprocess, 35.9ms inference, 0.5ms postprocess per image at shape (1, 3, 384, 640)\n"
     ]
    }
   ],
   "source": [
    "object_detect = load_model()\n",
    "results = detect_objects(image_path, object_detect, conf_threshold=0.3)"
   ]
  },
  {
   "cell_type": "code",
   "execution_count": 30,
   "id": "e34f2abf",
   "metadata": {},
   "outputs": [
    {
     "name": "stdout",
     "output_type": "stream",
     "text": [
      "person (0.93) → Avg depth: 118.78\n",
      "bed (0.36) → Avg depth: 14.55\n"
     ]
    }
   ],
   "source": [
    "#Print object detection + depth results\n",
    "for box, label, score in zip(results[\"boxes\"], results[\"labels\"], results[\"scores\"]):\n",
    "    x1, y1, x2, y2 = [int(coord) for coord in box]\n",
    "\n",
    "    # Clamp coordinates to be within depth_map size\n",
    "    x1 = max(0, min(x1, depth_map.shape[1] - 1))\n",
    "    x2 = max(0, min(x2, depth_map.shape[1] - 1))\n",
    "    y1 = max(0, min(y1, depth_map.shape[0] - 1))\n",
    "    y2 = max(0, min(y2, depth_map.shape[0] - 1))\n",
    "\n",
    "    # Slice the depth map for the region inside the box\n",
    "    object_depth = depth_map[y1:y2, x1:x2]\n",
    "\n",
    "    if object_depth.size > 0:\n",
    "        average_depth = object_depth.mean()\n",
    "        print(f\"{label} ({score:.2f}) → Avg depth: {average_depth:.2f}\")\n",
    "    else:\n",
    "        print(f\"{label} has an empty depth region — box might be out of bounds\")"
   ]
  },
  {
   "cell_type": "markdown",
   "id": "ff7dbf48",
   "metadata": {},
   "source": [
    "# Kokoro test"
   ]
  },
  {
   "cell_type": "code",
   "execution_count": 1,
   "id": "6229983b",
   "metadata": {},
   "outputs": [],
   "source": [
    "from kokoro_audio import text_to_audio, load_kokoro_model"
   ]
  },
  {
   "cell_type": "code",
   "execution_count": 2,
   "id": "315e3b1f",
   "metadata": {},
   "outputs": [
    {
     "name": "stdout",
     "output_type": "stream",
     "text": [
      "WARNING: Defaulting repo_id to hexgrad/Kokoro-82M. Pass repo_id='hexgrad/Kokoro-82M' to suppress this warning.\n"
     ]
    },
    {
     "name": "stderr",
     "output_type": "stream",
     "text": [
      "c:\\Users\\tonyl\\.conda\\envs\\py3.11\\Lib\\site-packages\\torch\\nn\\modules\\rnn.py:123: UserWarning: dropout option adds dropout after all but last recurrent layer, so non-zero dropout expects num_layers greater than 1, but got dropout=0.2 and num_layers=1\n",
      "  warnings.warn(\n",
      "c:\\Users\\tonyl\\.conda\\envs\\py3.11\\Lib\\site-packages\\torch\\nn\\utils\\weight_norm.py:143: FutureWarning: `torch.nn.utils.weight_norm` is deprecated in favor of `torch.nn.utils.parametrizations.weight_norm`.\n",
      "  WeightNorm.apply(module, name, dim)\n"
     ]
    }
   ],
   "source": [
    "kokoro = load_kokoro_model()"
   ]
  },
  {
   "cell_type": "code",
   "execution_count": null,
   "id": "7464f082",
   "metadata": {},
   "outputs": [
    {
     "name": "stdout",
     "output_type": "stream",
     "text": [
      "0 Once upon a midnight dreary, while I pondered, weak and weary, over many a quaint and curious volume of forgotten lore— while I nodded, nearly napping, suddenly there came a tapping, as of someone gently rapping, rapping at my chamber door. 'Tis some visitor,' I muttered, 'tapping at my chamber door— only this and nothing more.' wˈʌns əpˈɑn ɐ mˈɪdnˌIt dɹˈɪɹi, wˌIl ˌI pˈɑndəɹd, wˈik ænd wˈɪɹi, ˈOvəɹ mˈɛni ɐ kwˈAnt ænd kjˈʊɹiəs vˈɑljˌum ʌv fəɹɡˈɑtn lˈɔɹ— wˌIl ˌI nˈɑdᵻd, nˈɪɹli nˈæpɪŋ, sˈʌdᵊnli ðɛɹ kˈAm ɐ tˈæpɪŋ, æz ʌv sˈʌmwˌʌn ʤˈɛntli ɹˈæpɪŋ, ɹˈæpɪŋ æt mI ʧˈAmbəɹ dˈɔɹ. ”tˈiz sˌʌm vˈɪzəTəɹ,” ˌI mˈʌTəɹd, ”tˈæpɪŋ æt mI ʧˈAmbəɹ dˈɔɹ— ˈOnli ðɪs ænd nˈʌθɪŋ mˈɔɹ.”\n"
     ]
    }
   ],
   "source": [
    "# testing kokoro\n",
    "text = \"Once upon a midnight dreary, while I pondered, \" \\\n",
    "\"weak and weary, over many a quaint and curious volume of forgotten lore— \" \\\n",
    "\"while I nodded, nearly napping, suddenly there came a tapping, as of \" \\\n",
    "\"someone gently rapping, rapping at my chamber door. 'Tis some visitor,' \" \\\n",
    "\"I muttered, 'tapping at my chamber door— only this and nothing more.'\"\n",
    "audio = text_to_audio(kokoro, text, output_dir=\"./audio_output\", file_name=\"output\")"
   ]
  },
  {
   "cell_type": "code",
   "execution_count": 6,
   "id": "b195fece",
   "metadata": {},
   "outputs": [],
   "source": [
    "#Decoding base64 audio\n",
    "import base64\n",
    "import json\n",
    "\n",
    "with open('output.json', 'r') as file:\n",
    "    audio_base64 = json.load(file)['audio_base64']\n",
    "\n",
    "# Decode the base64 string into bytes\n",
    "audio_bytes = base64.b64decode(audio_base64)\n",
    "\n",
    "# Save the decoded audio to a file \n",
    "with open(\"output_audio.wav\", \"wb\") as f:\n",
    "    f.write(audio_bytes)"
   ]
  },
  {
   "cell_type": "code",
   "execution_count": null,
   "id": "56b22081",
   "metadata": {},
   "outputs": [],
   "source": []
  }
 ],
 "metadata": {
  "kernelspec": {
   "display_name": "py3.11",
   "language": "python",
   "name": "python3"
  },
  "language_info": {
   "codemirror_mode": {
    "name": "ipython",
    "version": 3
   },
   "file_extension": ".py",
   "mimetype": "text/x-python",
   "name": "python",
   "nbconvert_exporter": "python",
   "pygments_lexer": "ipython3",
   "version": "3.11.11"
  }
 },
 "nbformat": 4,
 "nbformat_minor": 5
}
